{
 "cells": [
  {
   "cell_type": "code",
   "execution_count": 11,
   "metadata": {},
   "outputs": [],
   "source": [
    "// git@github.com:janDigeser/StruProUeb.git\n",
    "\n",
    "// github.com/janDigeser/StruProUeb\n",
    "\n",
    "// jan.konstantin.digeser@uni-jena.de\n",
    "// [StruPro] \n",
    "\n",
    "public interface Vergleichbar{\n",
    "    int compareTo(Object other);\n",
    "}"
   ]
  },
  {
   "cell_type": "code",
   "execution_count": 12,
   "metadata": {},
   "outputs": [],
   "source": [
    "public class Entry<T> implements Vergleichbar{\n",
    "    public static int PREC = 6;\n",
    "    double timeStamp;\n",
    "    T data;\n",
    "    \n",
    "    public Entry(double ts, T dt){\n",
    "        timeStamp = ts;\n",
    "        data = dt;\n",
    "    }\n",
    "    \n",
    "    @Override\n",
    "    public int compareTo(Object other){\n",
    "        Entry othr = (Entry) other;\n",
    "        if (timeStamp < othr.timeStamp)\n",
    "            return -1;\n",
    "        else if (timeStamp > othr.timeStamp)\n",
    "            return 1;\n",
    "        return 0;\n",
    "    }\n",
    "    \n",
    "    @Override\n",
    "    public String toString(){\n",
    "        return String.format(Locale.US, \"Entry( %.\"+PREC+\"f\" , timeStamp) + \", \"+ data +\" )\";\n",
    "    }\n",
    "}"
   ]
  },
  {
   "cell_type": "code",
   "execution_count": 13,
   "metadata": {},
   "outputs": [
    {
     "data": {
      "text/plain": [
       "3"
      ]
     },
     "execution_count": 13,
     "metadata": {},
     "output_type": "execute_result"
    }
   ],
   "source": [
    "Entry.PREC = 3"
   ]
  },
  {
   "cell_type": "markdown",
   "metadata": {},
   "source": [
    "## PriorityQueue"
   ]
  },
  {
   "cell_type": "code",
   "execution_count": 14,
   "metadata": {},
   "outputs": [],
   "source": [
    "public abstract class PriorityQueue{\n",
    "    abstract public void add(Vergleichbar e);\n",
    "    abstract public boolean isEmpty();\n",
    "    abstract public Vergleichbar poll();\n",
    "}"
   ]
  },
  {
   "cell_type": "code",
   "execution_count": 23,
   "metadata": {},
   "outputs": [],
   "source": [
    "public class MyPriorityQ extends PriorityQueue{\n",
    "\n",
    "    private LinkedList<Vergleichbar> queue;\n",
    "    \n",
    "    public MyPriorityQ(){\n",
    "        queue = new LinkedList<>();   \n",
    "    }\n",
    "    \n",
    "    @Override\n",
    "    public void add(Vergleichbar e){\n",
    "        \n",
    "        if (queue.isEmpty()){\n",
    "            queue.add(e);\n",
    "            return;\n",
    "        }\n",
    "        ListIterator<Vergleichbar> iter = queue.listIterator(0);\n",
    "        while(iter.hasNext()){\n",
    "            Vergleichbar cur = iter.next();   // nächstes element in Liste\n",
    "            if (e.compareTo(cur) <= 0){       // falls aktuelles element größer oder gleich ist\n",
    "                iter.previous();              // direkt davor einfügen\n",
    "                iter.add(e);\n",
    "                return;                        // und abbrechen\n",
    "            }\n",
    "        }\n",
    "        iter.add(e);\n",
    "        \n",
    "        \n",
    "    }\n",
    "    \n",
    "    @Override\n",
    "    public boolean isEmpty(){ return queue.isEmpty();}\n",
    "    \n",
    "    @Override\n",
    "    public Vergleichbar poll(){\n",
    "        return queue.poll();\n",
    "    }\n",
    "}"
   ]
  },
  {
   "cell_type": "code",
   "execution_count": 16,
   "metadata": {},
   "outputs": [],
   "source": [
    "PriorityQueue q = new MyPriorityQ();\n",
    "for(int i = 0; i < 20; i++){\n",
    "    double val = (Math.random()*20);\n",
    "    q.add(new Entry(val, String.valueOf(val)));\n",
    "}"
   ]
  },
  {
   "cell_type": "code",
   "execution_count": 17,
   "metadata": {},
   "outputs": [
    {
     "name": "stdout",
     "output_type": "stream",
     "text": [
      "Entry( 0.334, 0.3342450310335132 )\n",
      "Entry( 1.295, 1.295371265648324 )\n",
      "Entry( 1.860, 1.8597106301558775 )\n",
      "Entry( 2.907, 2.9072985620974645 )\n",
      "Entry( 3.563, 3.5625738244411065 )\n",
      "Entry( 3.903, 3.9033697973145176 )\n",
      "Entry( 4.290, 4.289586654100317 )\n",
      "Entry( 5.089, 5.088555287499106 )\n",
      "Entry( 5.132, 5.13245841563521 )\n",
      "Entry( 5.393, 5.392505676574821 )\n"
     ]
    }
   ],
   "source": [
    "while(!q.isEmpty())\n",
    "    System.out.println((Entry) q.poll());"
   ]
  },
  {
   "cell_type": "code",
   "execution_count": 30,
   "metadata": {},
   "outputs": [],
   "source": [
    "public class Pair implements Vergleichbar{\n",
    "    \n",
    "    private Integer first, second;\n",
    "    \n",
    "    public String toString(){\n",
    "        return \"( \" + first + \" \" + second +\" )\";\n",
    "    }\n",
    "    \n",
    "    public Pair(Integer a, Integer b){\n",
    "        first = a;\n",
    "        second = b;\n",
    "    }\n",
    "    \n",
    "    public int compareTo(Object obj){\n",
    "        Pair other = (Pair) obj;\n",
    "        if (first - other.first == 0){\n",
    "            return second - other.second;\n",
    "        }\n",
    "        return first - other.first;\n",
    "    }\n",
    "\n",
    "}"
   ]
  },
  {
   "cell_type": "code",
   "execution_count": 24,
   "metadata": {},
   "outputs": [],
   "source": [
    "PriorityQueue p = new MyPriorityQ();\n",
    "for(int i = 0; i < 20; i++){\n",
    "    p.add(new Pair((int) (Math.random()*20),(int) (Math.random()*20)));\n",
    "}"
   ]
  },
  {
   "cell_type": "code",
   "execution_count": 25,
   "metadata": {},
   "outputs": [
    {
     "name": "stdout",
     "output_type": "stream",
     "text": [
      "( 0 6 )\n",
      "( 0 12 )\n",
      "( 1 1 )\n",
      "( 1 5 )\n",
      "( 2 9 )\n",
      "( 2 14 )\n",
      "( 2 15 )\n",
      "( 4 1 )\n",
      "( 9 5 )\n",
      "( 11 5 )\n",
      "( 11 16 )\n",
      "( 12 1 )\n",
      "( 16 2 )\n",
      "( 16 11 )\n",
      "( 16 12 )\n",
      "( 17 18 )\n",
      "( 18 5 )\n",
      "( 18 6 )\n",
      "( 19 0 )\n",
      "( 19 7 )\n"
     ]
    }
   ],
   "source": [
    "while(!p.isEmpty())\n",
    "    System.out.println((Pair) p.poll())"
   ]
  },
  {
   "cell_type": "markdown",
   "metadata": {},
   "source": [
    "---\n",
    "# Generics\n",
    "\n",
    "### Schreiben von Klassen, die mit unterschiedlichen Typen arbeiten können\n",
    "\n",
    "# Interfaces und ABCs aus der Java-Bibliothek\n",
    "\n",
    "### Eigene Klassen einfacher zu benutzen mit Interfaces von Java (Iterable, Comparable, Iterator)\n",
    "### ABCs: (AbstractCollection, AbstractList, ...)\n",
    "\n",
    "<a href=\"https://docs.oracle.com/javase/8/docs/api/java/util/List.html\"> Interface </a>\n",
    "\n",
    "<a href=\"https://docs.oracle.com/javase/8/docs/api/java/util/AbstractList.html\"> ABC </a>"
   ]
  },
  {
   "cell_type": "code",
   "execution_count": 32,
   "metadata": {},
   "outputs": [],
   "source": [
    "// Eigene Generische Klasse \n",
    "\n",
    "public class MyList<T> implements Iterable<T>{\n",
    "    \n",
    "    \n",
    "    public Iterator<T> iterator(){\n",
    "        return new Iterator<T>(){\n",
    "            \n",
    "            Node current = head;\n",
    "            \n",
    "            public boolean hasNext(){\n",
    "                return current != null;\n",
    "            }\n",
    "            \n",
    "            public T next(){\n",
    "                Node tmp = current;\n",
    "                current = current.child;\n",
    "                return tmp.data;\n",
    "            }\n",
    "            \n",
    "        };\n",
    "    }\n",
    "    \n",
    "    \n",
    "    private class Node{\n",
    "        Node child;\n",
    "        T data;\n",
    "        \n",
    "        Node(T dt, Node n){\n",
    "            data = dt;\n",
    "            child = n;\n",
    "        }\n",
    "    }\n",
    "    \n",
    "    Node head;\n",
    "    \n",
    "    MyList(){\n",
    "        head = null;\n",
    "    }\n",
    "    \n",
    "    public void add(T elem){\n",
    "        head = new Node(elem, head);\n",
    "    }\n",
    "    \n",
    "}\n",
    "\n"
   ]
  },
  {
   "cell_type": "code",
   "execution_count": 33,
   "metadata": {},
   "outputs": [],
   "source": [
    "MyList<Integer> list = new MyList<>();"
   ]
  },
  {
   "cell_type": "code",
   "execution_count": 34,
   "metadata": {},
   "outputs": [],
   "source": [
    "for(int i = 20; i > 0; i--){\n",
    "    list.add(i);\n",
    "}"
   ]
  },
  {
   "cell_type": "code",
   "execution_count": 35,
   "metadata": {},
   "outputs": [
    {
     "name": "stdout",
     "output_type": "stream",
     "text": [
      "1\n",
      "2\n",
      "3\n",
      "4\n",
      "5\n",
      "6\n",
      "7\n",
      "8\n",
      "9\n",
      "10\n",
      "11\n",
      "12\n",
      "13\n",
      "14\n",
      "15\n",
      "16\n",
      "17\n",
      "18\n",
      "19\n",
      "20\n"
     ]
    }
   ],
   "source": [
    "for(Integer elem : list) // Interface Iterable\n",
    "    System.out.println(elem);"
   ]
  },
  {
   "cell_type": "code",
   "execution_count": null,
   "metadata": {},
   "outputs": [],
   "source": [
    "for(Iterator<Integer> iter = list.iterator(); iter.hasNext() ; ){\n",
    "    Integer elem = iter.next();\n",
    "    \n",
    "    f();\n",
    "}"
   ]
  },
  {
   "cell_type": "code",
   "execution_count": null,
   "metadata": {},
   "outputs": [],
   "source": []
  }
 ],
 "metadata": {
  "kernelspec": {
   "display_name": "Java",
   "language": "java",
   "name": "java"
  },
  "language_info": {
   "codemirror_mode": "java",
   "file_extension": ".java",
   "mimetype": "text/x-java-source",
   "name": "Java",
   "pygments_lexer": "java",
   "version": "11.0.1+13-LTS"
  }
 },
 "nbformat": 4,
 "nbformat_minor": 2
}
