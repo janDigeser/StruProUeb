{
 "cells": [
  {
   "cell_type": "code",
   "execution_count": 10,
   "metadata": {},
   "outputs": [],
   "source": [
    "// git@github.com:janDigeser/StruProUeb.git\n",
    "// github.com/janDigeser/StruProUeb\n",
    "// jan.konstantin.digeser@uni-jena.de\n",
    "// [StruPro] \n",
    "\n",
    "public interface Vergleichbar<T>{\n",
    "    int compareTo(T other);\n",
    "}"
   ]
  },
  {
   "cell_type": "code",
   "execution_count": 11,
   "metadata": {},
   "outputs": [],
   "source": [
    "public class Entry implements Vergleichbar{\n",
    "    public static int PREC = 6;\n",
    "    double timeStamp;\n",
    "    Object data;\n",
    "    \n",
    "    public Entry(double ts, Object dt){\n",
    "        timeStamp = ts;\n",
    "        data = dt;\n",
    "    }\n",
    "    \n",
    "    @Override\n",
    "    public int compareTo(Object other){\n",
    "        Entry othr = (Entry) other;\n",
    "        if (timeStamp < othr.timeStamp)\n",
    "            return -1;\n",
    "        else if (timeStamp > othr.timeStamp)\n",
    "            return 1;\n",
    "        return 0;\n",
    "    }\n",
    "    \n",
    "    @Override\n",
    "    public String toString(){\n",
    "        return String.format(Locale.US, \"Entry( %.\"+PREC+\"f\" , timeStamp) + \", \"+ data +\" )\";\n",
    "    }\n",
    "}"
   ]
  },
  {
   "cell_type": "code",
   "execution_count": 12,
   "metadata": {},
   "outputs": [
    {
     "data": {
      "text/plain": [
       "3"
      ]
     },
     "execution_count": 12,
     "metadata": {},
     "output_type": "execute_result"
    }
   ],
   "source": [
    "Entry.PREC = 3"
   ]
  },
  {
   "cell_type": "markdown",
   "metadata": {},
   "source": [
    "## PriorityQueue"
   ]
  },
  {
   "cell_type": "code",
   "execution_count": 13,
   "metadata": {},
   "outputs": [],
   "source": [
    "public abstract class PriorityQueue{\n",
    "    abstract public void add(Vergleichbar e);\n",
    "    abstract public boolean isEmpty();\n",
    "    abstract public Vergleichbar poll();\n",
    "}"
   ]
  },
  {
   "cell_type": "code",
   "execution_count": 14,
   "metadata": {},
   "outputs": [],
   "source": [
    "public class MyPriorityQ extends PriorityQueue{\n",
    "\n",
    "    private LinkedList<Vergleichbar> queue;\n",
    "    \n",
    "    public MyPriorityQ(){\n",
    "        queue = new LinkedList<>();   \n",
    "    }\n",
    "    \n",
    "    @Override\n",
    "    public void add(Vergleichbar e){\n",
    "        \n",
    "        if (queue.isEmpty()){\n",
    "            queue.add(e);\n",
    "            return;\n",
    "        }\n",
    "                  \n",
    "        for( ListIterator<Vergleichbar> iter = queue.listIterator(0); iter.hasNext();){\n",
    "            Vergleichbar cur = iter.next();   // nächstes element in Liste\n",
    "            if (e.compareTo(cur) <= 0){       // falls aktuelles element größer oder gleich ist\n",
    "                iter.previous();              // direkt davor einfügen\n",
    "                iter.add(e);\n",
    "                break;                        // und abbrechen\n",
    "            }\n",
    "        }\n",
    "    }\n",
    "    \n",
    "    @Override\n",
    "    public boolean isEmpty(){ return queue.isEmpty();}\n",
    "    \n",
    "    @Override\n",
    "    public Vergleichbar poll(){\n",
    "        return queue.poll();\n",
    "    }\n",
    "}"
   ]
  },
  {
   "cell_type": "code",
   "execution_count": 20,
   "metadata": {},
   "outputs": [],
   "source": [
    "PriorityQueue q = new MyPriorityQ();\n",
    "for(int i = 0; i < 20; i++){\n",
    "    double val = (Math.random()*20);\n",
    "    q.add(new Entry(val, String.valueOf(val)));\n",
    "}"
   ]
  },
  {
   "cell_type": "code",
   "execution_count": 21,
   "metadata": {},
   "outputs": [
    {
     "name": "stdout",
     "output_type": "stream",
     "text": [
      "Entry( 0.141, 0.14128220520843282 )\n",
      "Entry( 0.973, 0.9726877113240273 )\n",
      "Entry( 1.416, 1.416034762835583 )\n",
      "Entry( 1.929, 1.9287832258170323 )\n",
      "Entry( 3.870, 3.8701614540424867 )\n"
     ]
    }
   ],
   "source": [
    "while(!q.isEmpty())\n",
    "    System.out.println((Entry) q.poll());"
   ]
  },
  {
   "cell_type": "markdown",
   "metadata": {},
   "source": [
    "---\n",
    "# Generics\n",
    "\n",
    "### Schreiben von Klassen, die mit unterschiedlichen Typen arbeiten können\n",
    "\n",
    "# Interfaces und ABCs aus der Java-Bibliothek\n",
    "\n",
    "### Eigene Klassen einfacher zu benutzen mit Interfaces von Java (Iterable, Comparable, Iterator)\n",
    "### ABCs: (AbstractCollection, AbstractList, ...)\n",
    "\n",
    "<a href=\"https://docs.oracle.com/javase/8/docs/api/java/util/List.html\"> Interface </a>\n",
    "\n",
    "<a href=\"https://docs.oracle.com/javase/8/docs/api/java/util/AbstractList.html\"> ABC </a>"
   ]
  },
  {
   "cell_type": "code",
   "execution_count": 30,
   "metadata": {},
   "outputs": [],
   "source": [
    "// Entry generisch schreiben\n",
    "// PrioQ generisch umschreiben\n",
    "public class Entry<T> implements Comparable<Entry>{\n",
    "    \n",
    "    public static int PREC = 6;\n",
    "    \n",
    "    Double timeStamp;\n",
    "    T data;\n",
    "    \n",
    "    public Entry(Double ts, T dt){\n",
    "        timeStamp = ts;\n",
    "        data = dt;\n",
    "    }\n",
    "    \n",
    "    @Override\n",
    "    public int compareTo(Entry other){\n",
    "        return timeStamp - other.timeStamp > 0 ? 1 : -1;\n",
    "    }\n",
    "    \n",
    "    @Override\n",
    "    public String toString(){\n",
    "        return String.format(Locale.US, \"Entry( %.\"+PREC+\"f\" , timeStamp) + \", \"+ data +\" )\";\n",
    "    }\n",
    "}\n"
   ]
  },
  {
   "cell_type": "code",
   "execution_count": 35,
   "metadata": {},
   "outputs": [],
   "source": [
    "Entry<String> t = new Entry<>(0.225, \"Hallo\");\n",
    "Entry<Integer> t2 = new Entry<Integer>(0.123, 12321);"
   ]
  },
  {
   "cell_type": "code",
   "execution_count": 37,
   "metadata": {},
   "outputs": [
    {
     "data": {
      "text/plain": [
       "Entry( 0.123000, 12321 )"
      ]
     },
     "execution_count": 37,
     "metadata": {},
     "output_type": "execute_result"
    }
   ],
   "source": [
    "t2"
   ]
  },
  {
   "cell_type": "code",
   "execution_count": 38,
   "metadata": {},
   "outputs": [],
   "source": [
    "List<Integer> list = new ArrayList<>();\n",
    "for(int n = 0; n < 30; n++){\n",
    "    list.add(n);\n",
    "}"
   ]
  },
  {
   "cell_type": "code",
   "execution_count": 39,
   "metadata": {},
   "outputs": [
    {
     "name": "stdout",
     "output_type": "stream",
     "text": [
      "0\n",
      "1\n",
      "2\n",
      "3\n",
      "4\n",
      "5\n",
      "6\n",
      "7\n",
      "8\n",
      "9\n",
      "10\n",
      "11\n",
      "12\n",
      "13\n",
      "14\n",
      "15\n",
      "16\n",
      "17\n",
      "18\n",
      "19\n",
      "20\n",
      "21\n",
      "22\n",
      "23\n",
      "24\n",
      "25\n",
      "26\n",
      "27\n",
      "28\n",
      "29\n"
     ]
    }
   ],
   "source": [
    "for(Integer elem : list)\n",
    "    System.out.println(elem);\n",
    "\n",
    "for(Iterator<Integer> iter = list.iterator(); iter.hasNext(); ){\n",
    "    Integer elem = iter.next();\n",
    "    \n",
    "    System.out.println(elem);\n",
    "}"
   ]
  },
  {
   "cell_type": "code",
   "execution_count": null,
   "metadata": {},
   "outputs": [],
   "source": [
    "// Eigene einfache verkettete Liste, die List implementiert\n",
    "public class MyIterator<T> extends Iterator<T>{\n",
    "    \n",
    "    MyIterator(Node ){\n",
    "        \n",
    "    }\n",
    "}"
   ]
  },
  {
   "cell_type": "code",
   "execution_count": 55,
   "metadata": {},
   "outputs": [],
   "source": [
    "public class MyList<T> implements Iterable<T>{\n",
    "    \n",
    "    private class Node{\n",
    "        T data;\n",
    "        Node next;\n",
    "        Node(T data, Node next){\n",
    "            this.data = data;\n",
    "            this.next = next;\n",
    "        }\n",
    "    }\n",
    "    \n",
    "    Node head;\n",
    "    \n",
    "    public Iterator<T> iterator(){\n",
    "        return new Iterator<T>(){\n",
    "            \n",
    "            Node current = head;\n",
    "            \n",
    "            public boolean hasNext(){\n",
    "                return current != null;\n",
    "            }\n",
    "            \n",
    "            public T next(){\n",
    "                Node tmp = current;\n",
    "                current = current.next;\n",
    "                return tmp.data;\n",
    "            }\n",
    "            \n",
    "        };\n",
    "    }\n",
    "    \n",
    "    MyList(){head = null;}\n",
    "    \n",
    "    void add(T elem){\n",
    "        head = new Node(elem, head);\n",
    "    }\n",
    "    \n",
    "}"
   ]
  },
  {
   "cell_type": "code",
   "execution_count": 56,
   "metadata": {},
   "outputs": [],
   "source": [
    "MyList<Integer> list = new MyList<>()"
   ]
  },
  {
   "cell_type": "code",
   "execution_count": 57,
   "metadata": {},
   "outputs": [],
   "source": [
    "for(int i = 0; i < 20; i++)\n",
    "    list.add(i);"
   ]
  },
  {
   "cell_type": "code",
   "execution_count": 59,
   "metadata": {},
   "outputs": [
    {
     "name": "stdout",
     "output_type": "stream",
     "text": [
      "19\n",
      "18\n",
      "17\n",
      "16\n",
      "15\n",
      "14\n",
      "13\n",
      "12\n",
      "11\n",
      "10\n",
      "9\n",
      "8\n",
      "7\n",
      "6\n",
      "5\n",
      "4\n",
      "3\n",
      "2\n",
      "1\n",
      "0\n"
     ]
    }
   ],
   "source": [
    "for( Integer elem :  list )\n",
    "    System.out.println(elem);"
   ]
  },
  {
   "cell_type": "code",
   "execution_count": null,
   "metadata": {},
   "outputs": [],
   "source": []
  }
 ],
 "metadata": {
  "kernelspec": {
   "display_name": "Java",
   "language": "java",
   "name": "java"
  },
  "language_info": {
   "codemirror_mode": "java",
   "file_extension": ".java",
   "mimetype": "text/x-java-source",
   "name": "Java",
   "pygments_lexer": "java",
   "version": "11.0.1+13-LTS"
  }
 },
 "nbformat": 4,
 "nbformat_minor": 2
}
