{
 "cells": [
  {
   "cell_type": "code",
   "execution_count": null,
   "metadata": {},
   "outputs": [],
   "source": [
    "public interface Vergleichbar{\n",
    "    int compareTo(Object other);\n",
    "}"
   ]
  },
  {
   "cell_type": "code",
   "execution_count": null,
   "metadata": {},
   "outputs": [],
   "source": [
    "public class Entry implements Vergleichbar{\n",
    "    public static int PREC = 6;\n",
    "    double timeStamp;\n",
    "    Object data;\n",
    "    \n",
    "    public Entry(double ts, Object dt){\n",
    "        timeStamp = ts;\n",
    "        data = dt;\n",
    "    }\n",
    "    \n",
    "    @Override\n",
    "    public int compareTo(Object other){\n",
    "        Entry othr = (Entry) other;\n",
    "        if (timeStamp < othr.timeStamp)\n",
    "            return -1;\n",
    "        else if (timeStamp > othr.timeStamp)\n",
    "            return 1;\n",
    "        return 0;\n",
    "    }\n",
    "    \n",
    "    @Override\n",
    "    public String toString(){\n",
    "        return String.format(Locale.US, \"Entry( %.\"+PREC+\"f\" , timeStamp) + \", \"+ data +\" )\";\n",
    "    }\n",
    "}"
   ]
  },
  {
   "cell_type": "code",
   "execution_count": null,
   "metadata": {},
   "outputs": [],
   "source": [
    "Entry.PREC = 3"
   ]
  },
  {
   "cell_type": "markdown",
   "metadata": {},
   "source": [
    "## PriorityQueue"
   ]
  },
  {
   "cell_type": "code",
   "execution_count": null,
   "metadata": {},
   "outputs": [],
   "source": [
    "public abstract class PriorityQueue{\n",
    "    abstract public void add(Vergleichbar e);\n",
    "    abstract public boolean isEmpty();\n",
    "    abstract public Vergleichbar poll();\n",
    "}"
   ]
  },
  {
   "cell_type": "code",
   "execution_count": null,
   "metadata": {},
   "outputs": [],
   "source": [
    "public class MyPriorityQ extends PriorityQueue{\n",
    "\n",
    "    private LinkedList<Vergleichbar> queue;\n",
    "    \n",
    "    public MyPriorityQ(){\n",
    "        queue = new LinkedList<>();   \n",
    "    }\n",
    "    \n",
    "    @Override\n",
    "    public void add(Vergleichbar e){\n",
    "        \n",
    "        if (queue.isEmpty()){\n",
    "            queue.add(e);\n",
    "            return;\n",
    "        }\n",
    "                  \n",
    "        for( ListIterator<Vergleichbar> iter = queue.listIterator(0); iter.hasNext();){\n",
    "            Vergleichbar cur = iter.next();   // nächstes element in Liste\n",
    "            if (e.compareTo(cur) <= 0){       // falls aktuelles element größer oder gleich ist\n",
    "                iter.previous();              // direkt davor einfügen\n",
    "                iter.add(e);\n",
    "                break;                        // und abbrechen\n",
    "            }\n",
    "        }\n",
    "    }\n",
    "    \n",
    "    @Override\n",
    "    public boolean isEmpty(){ return queue.isEmpty();}\n",
    "    \n",
    "    @Override\n",
    "    public Vergleichbar poll(){\n",
    "        return queue.poll();\n",
    "    }\n",
    "}"
   ]
  },
  {
   "cell_type": "code",
   "execution_count": null,
   "metadata": {},
   "outputs": [],
   "source": [
    "PriorityQueue q = new MyPriorityQ();\n",
    "for(int i = 0; i < 20; i++){\n",
    "    double val = (Math.random()*20);\n",
    "    q.add(new Entry(val, String.valueOf(val)));\n",
    "}"
   ]
  },
  {
   "cell_type": "code",
   "execution_count": null,
   "metadata": {},
   "outputs": [],
   "source": [
    "while(!q.isEmpty())\n",
    "    System.out.println((Entry) q.poll());"
   ]
  },
  {
   "cell_type": "markdown",
   "metadata": {},
   "source": [
    "---\n",
    "# Generics\n",
    "\n",
    "### Schreiben von Klassen, die mit unterschiedlichen Typen arbeiten können\n",
    "\n",
    "# Interfaces und ABCs aus der Java-Bibliothek\n",
    "\n",
    "### Eigene Klassen einfacher zu benutzen mit Interfaces von Java (Iterable, Comparable, Iterator)\n",
    "### ABCs: (AbstractCollection, AbstractList, ...)\n",
    "\n",
    "<a href=\"https://docs.oracle.com/javase/8/docs/api/java/util/List.html\"> Interface </a>\n",
    "\n",
    "<a href=\"https://docs.oracle.com/javase/8/docs/api/java/util/AbstractList.html\"> ABC </a>"
   ]
  },
  {
   "cell_type": "code",
   "execution_count": null,
   "metadata": {},
   "outputs": [],
   "source": [
    "// Entry generisch schreiben\n",
    "// PrioQ generisch umschreiben"
   ]
  },
  {
   "cell_type": "code",
   "execution_count": null,
   "metadata": {},
   "outputs": [],
   "source": []
  },
  {
   "cell_type": "code",
   "execution_count": null,
   "metadata": {},
   "outputs": [],
   "source": [
    "// Iterierbare Linked List"
   ]
  },
  {
   "cell_type": "code",
   "execution_count": null,
   "metadata": {},
   "outputs": [],
   "source": [
    "// Eigene einfache verkettete Liste, die List implementiert"
   ]
  },
  {
   "cell_type": "code",
   "execution_count": null,
   "metadata": {},
   "outputs": [],
   "source": []
  },
  {
   "cell_type": "code",
   "execution_count": null,
   "metadata": {},
   "outputs": [],
   "source": []
  }
 ],
 "metadata": {
  "kernelspec": {
   "display_name": "Java",
   "language": "java",
   "name": "java"
  },
  "language_info": {
   "codemirror_mode": "java",
   "file_extension": ".java",
   "mimetype": "text/x-java-source",
   "name": "Java",
   "pygments_lexer": "java",
   "version": "11.0.1+13-LTS"
  }
 },
 "nbformat": 4,
 "nbformat_minor": 2
}
